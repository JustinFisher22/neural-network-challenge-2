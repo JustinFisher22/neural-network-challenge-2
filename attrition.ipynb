{
  "cells": [
    {
      "cell_type": "markdown",
      "metadata": {
        "id": "alIIEHibGc3M"
      },
      "source": [
        "## Part 1: Preprocessing"
      ]
    },
    {
      "cell_type": "code",
      "execution_count": 1,
      "metadata": {
        "colab": {
          "base_uri": "https://localhost:8080/",
          "height": 325
        },
        "id": "6eDUJ4NtGc3P",
        "outputId": "2480098c-135c-4cbf-9552-018494ee8ff5"
      },
      "outputs": [
        {
          "data": {
            "text/html": [
              "<div>\n",
              "<style scoped>\n",
              "    .dataframe tbody tr th:only-of-type {\n",
              "        vertical-align: middle;\n",
              "    }\n",
              "\n",
              "    .dataframe tbody tr th {\n",
              "        vertical-align: top;\n",
              "    }\n",
              "\n",
              "    .dataframe thead th {\n",
              "        text-align: right;\n",
              "    }\n",
              "</style>\n",
              "<table border=\"1\" class=\"dataframe\">\n",
              "  <thead>\n",
              "    <tr style=\"text-align: right;\">\n",
              "      <th></th>\n",
              "      <th>Age</th>\n",
              "      <th>Attrition</th>\n",
              "      <th>BusinessTravel</th>\n",
              "      <th>Department</th>\n",
              "      <th>DistanceFromHome</th>\n",
              "      <th>Education</th>\n",
              "      <th>EducationField</th>\n",
              "      <th>EnvironmentSatisfaction</th>\n",
              "      <th>HourlyRate</th>\n",
              "      <th>JobInvolvement</th>\n",
              "      <th>...</th>\n",
              "      <th>PerformanceRating</th>\n",
              "      <th>RelationshipSatisfaction</th>\n",
              "      <th>StockOptionLevel</th>\n",
              "      <th>TotalWorkingYears</th>\n",
              "      <th>TrainingTimesLastYear</th>\n",
              "      <th>WorkLifeBalance</th>\n",
              "      <th>YearsAtCompany</th>\n",
              "      <th>YearsInCurrentRole</th>\n",
              "      <th>YearsSinceLastPromotion</th>\n",
              "      <th>YearsWithCurrManager</th>\n",
              "    </tr>\n",
              "  </thead>\n",
              "  <tbody>\n",
              "    <tr>\n",
              "      <th>0</th>\n",
              "      <td>41</td>\n",
              "      <td>Yes</td>\n",
              "      <td>Travel_Rarely</td>\n",
              "      <td>Sales</td>\n",
              "      <td>1</td>\n",
              "      <td>2</td>\n",
              "      <td>Life Sciences</td>\n",
              "      <td>2</td>\n",
              "      <td>94</td>\n",
              "      <td>3</td>\n",
              "      <td>...</td>\n",
              "      <td>3</td>\n",
              "      <td>1</td>\n",
              "      <td>0</td>\n",
              "      <td>8</td>\n",
              "      <td>0</td>\n",
              "      <td>1</td>\n",
              "      <td>6</td>\n",
              "      <td>4</td>\n",
              "      <td>0</td>\n",
              "      <td>5</td>\n",
              "    </tr>\n",
              "    <tr>\n",
              "      <th>1</th>\n",
              "      <td>49</td>\n",
              "      <td>No</td>\n",
              "      <td>Travel_Frequently</td>\n",
              "      <td>Research &amp; Development</td>\n",
              "      <td>8</td>\n",
              "      <td>1</td>\n",
              "      <td>Life Sciences</td>\n",
              "      <td>3</td>\n",
              "      <td>61</td>\n",
              "      <td>2</td>\n",
              "      <td>...</td>\n",
              "      <td>4</td>\n",
              "      <td>4</td>\n",
              "      <td>1</td>\n",
              "      <td>10</td>\n",
              "      <td>3</td>\n",
              "      <td>3</td>\n",
              "      <td>10</td>\n",
              "      <td>7</td>\n",
              "      <td>1</td>\n",
              "      <td>7</td>\n",
              "    </tr>\n",
              "    <tr>\n",
              "      <th>2</th>\n",
              "      <td>37</td>\n",
              "      <td>Yes</td>\n",
              "      <td>Travel_Rarely</td>\n",
              "      <td>Research &amp; Development</td>\n",
              "      <td>2</td>\n",
              "      <td>2</td>\n",
              "      <td>Other</td>\n",
              "      <td>4</td>\n",
              "      <td>92</td>\n",
              "      <td>2</td>\n",
              "      <td>...</td>\n",
              "      <td>3</td>\n",
              "      <td>2</td>\n",
              "      <td>0</td>\n",
              "      <td>7</td>\n",
              "      <td>3</td>\n",
              "      <td>3</td>\n",
              "      <td>0</td>\n",
              "      <td>0</td>\n",
              "      <td>0</td>\n",
              "      <td>0</td>\n",
              "    </tr>\n",
              "    <tr>\n",
              "      <th>3</th>\n",
              "      <td>33</td>\n",
              "      <td>No</td>\n",
              "      <td>Travel_Frequently</td>\n",
              "      <td>Research &amp; Development</td>\n",
              "      <td>3</td>\n",
              "      <td>4</td>\n",
              "      <td>Life Sciences</td>\n",
              "      <td>4</td>\n",
              "      <td>56</td>\n",
              "      <td>3</td>\n",
              "      <td>...</td>\n",
              "      <td>3</td>\n",
              "      <td>3</td>\n",
              "      <td>0</td>\n",
              "      <td>8</td>\n",
              "      <td>3</td>\n",
              "      <td>3</td>\n",
              "      <td>8</td>\n",
              "      <td>7</td>\n",
              "      <td>3</td>\n",
              "      <td>0</td>\n",
              "    </tr>\n",
              "    <tr>\n",
              "      <th>4</th>\n",
              "      <td>27</td>\n",
              "      <td>No</td>\n",
              "      <td>Travel_Rarely</td>\n",
              "      <td>Research &amp; Development</td>\n",
              "      <td>2</td>\n",
              "      <td>1</td>\n",
              "      <td>Medical</td>\n",
              "      <td>1</td>\n",
              "      <td>40</td>\n",
              "      <td>3</td>\n",
              "      <td>...</td>\n",
              "      <td>3</td>\n",
              "      <td>4</td>\n",
              "      <td>1</td>\n",
              "      <td>6</td>\n",
              "      <td>3</td>\n",
              "      <td>3</td>\n",
              "      <td>2</td>\n",
              "      <td>2</td>\n",
              "      <td>2</td>\n",
              "      <td>2</td>\n",
              "    </tr>\n",
              "  </tbody>\n",
              "</table>\n",
              "<p>5 rows × 27 columns</p>\n",
              "</div>"
            ],
            "text/plain": [
              "   Age Attrition     BusinessTravel              Department  DistanceFromHome  \\\n",
              "0   41       Yes      Travel_Rarely                   Sales                 1   \n",
              "1   49        No  Travel_Frequently  Research & Development                 8   \n",
              "2   37       Yes      Travel_Rarely  Research & Development                 2   \n",
              "3   33        No  Travel_Frequently  Research & Development                 3   \n",
              "4   27        No      Travel_Rarely  Research & Development                 2   \n",
              "\n",
              "   Education EducationField  EnvironmentSatisfaction  HourlyRate  \\\n",
              "0          2  Life Sciences                        2          94   \n",
              "1          1  Life Sciences                        3          61   \n",
              "2          2          Other                        4          92   \n",
              "3          4  Life Sciences                        4          56   \n",
              "4          1        Medical                        1          40   \n",
              "\n",
              "   JobInvolvement  ...  PerformanceRating RelationshipSatisfaction  \\\n",
              "0               3  ...                  3                        1   \n",
              "1               2  ...                  4                        4   \n",
              "2               2  ...                  3                        2   \n",
              "3               3  ...                  3                        3   \n",
              "4               3  ...                  3                        4   \n",
              "\n",
              "   StockOptionLevel TotalWorkingYears  TrainingTimesLastYear WorkLifeBalance  \\\n",
              "0                 0                 8                      0               1   \n",
              "1                 1                10                      3               3   \n",
              "2                 0                 7                      3               3   \n",
              "3                 0                 8                      3               3   \n",
              "4                 1                 6                      3               3   \n",
              "\n",
              "   YearsAtCompany  YearsInCurrentRole  YearsSinceLastPromotion  \\\n",
              "0               6                   4                        0   \n",
              "1              10                   7                        1   \n",
              "2               0                   0                        0   \n",
              "3               8                   7                        3   \n",
              "4               2                   2                        2   \n",
              "\n",
              "   YearsWithCurrManager  \n",
              "0                     5  \n",
              "1                     7  \n",
              "2                     0  \n",
              "3                     0  \n",
              "4                     2  \n",
              "\n",
              "[5 rows x 27 columns]"
            ]
          },
          "execution_count": 1,
          "metadata": {},
          "output_type": "execute_result"
        }
      ],
      "source": [
        "# Import our dependencies\n",
        "from sklearn.model_selection import train_test_split\n",
        "from sklearn.preprocessing import StandardScaler\n",
        "import pandas as pd\n",
        "import numpy as np\n",
        "from tensorflow.keras.models import Model\n",
        "from tensorflow.keras import layers\n",
        "from sklearn.preprocessing import LabelEncoder\n",
        "from tensorflow.keras.layers import Dense, Input\n",
        "#  Import and read the attrition data\n",
        "attrition_df = pd.read_csv('https://static.bc-edx.com/ai/ail-v-1-0/m19/lms/datasets/attrition.csv')\n",
        "attrition_df.head()"
      ]
    },
    {
      "cell_type": "code",
      "execution_count": 2,
      "metadata": {
        "colab": {
          "base_uri": "https://localhost:8080/"
        },
        "id": "g22aQSY4Gc3Q",
        "outputId": "1f5c13c1-b981-4e40-a7ed-dd3fe6f1b81e"
      },
      "outputs": [
        {
          "data": {
            "text/plain": [
              "Age                         43\n",
              "Attrition                    2\n",
              "BusinessTravel               3\n",
              "Department                   3\n",
              "DistanceFromHome            29\n",
              "Education                    5\n",
              "EducationField               6\n",
              "EnvironmentSatisfaction      4\n",
              "HourlyRate                  71\n",
              "JobInvolvement               4\n",
              "JobLevel                     5\n",
              "JobRole                      9\n",
              "JobSatisfaction              4\n",
              "MaritalStatus                3\n",
              "NumCompaniesWorked          10\n",
              "OverTime                     2\n",
              "PercentSalaryHike           15\n",
              "PerformanceRating            2\n",
              "RelationshipSatisfaction     4\n",
              "StockOptionLevel             4\n",
              "TotalWorkingYears           40\n",
              "TrainingTimesLastYear        7\n",
              "WorkLifeBalance              4\n",
              "YearsAtCompany              37\n",
              "YearsInCurrentRole          19\n",
              "YearsSinceLastPromotion     16\n",
              "YearsWithCurrManager        18\n",
              "dtype: int64"
            ]
          },
          "execution_count": 2,
          "metadata": {},
          "output_type": "execute_result"
        }
      ],
      "source": [
        "# Determine the number of unique values in each column.\n",
        "attrition_df.nunique()"
      ]
    },
    {
      "cell_type": "code",
      "execution_count": 3,
      "metadata": {
        "id": "50vMgBEnJbfM"
      },
      "outputs": [],
      "source": [
        "# Create y_df with the Attrition and Department columns\n",
        "y_df = attrition_df[['Attrition', 'Department']]\n"
      ]
    },
    {
      "cell_type": "code",
      "execution_count": 4,
      "metadata": {
        "colab": {
          "base_uri": "https://localhost:8080/"
        },
        "id": "Virka0zLGc3R",
        "outputId": "dd5aee3a-9458-4ba6-e857-1b234de40915"
      },
      "outputs": [
        {
          "name": "stdout",
          "output_type": "stream",
          "text": [
            "Education                   int64\n",
            "Age                         int64\n",
            "DistanceFromHome            int64\n",
            "JobSatisfaction             int64\n",
            "OverTime                   object\n",
            "StockOptionLevel            int64\n",
            "WorkLifeBalance             int64\n",
            "YearsAtCompany              int64\n",
            "YearsSinceLastPromotion     int64\n",
            "NumCompaniesWorked          int64\n",
            "dtype: object\n"
          ]
        }
      ],
      "source": [
        "# Create a list of at least 10 column names to use as X data\n",
        "x_columns = [\n",
        "    \"Education\",\n",
        "    \"Age\",\n",
        "    \"DistanceFromHome\",\n",
        "    \"JobSatisfaction\",\n",
        "    \"OverTime\",\n",
        "    \"StockOptionLevel\",\n",
        "    \"WorkLifeBalance\",\n",
        "    \"YearsAtCompany\",\n",
        "    \"YearsSinceLastPromotion\",\n",
        "    \"NumCompaniesWorked\",\n",
        "]\n",
        "\n",
        "\n",
        "# Create X_df using your selected columns\n",
        "X_df = attrition_df[x_columns]\n",
        "\n",
        "# Show the data types for X_df\n",
        "print(X_df.dtypes)\n"
      ]
    },
    {
      "cell_type": "code",
      "execution_count": 5,
      "metadata": {},
      "outputs": [],
      "source": [
        "# Split the data into training and testing sets\n",
        "from sklearn.model_selection import train_test_split\n",
        "X_train, X_test, y_train, y_test = train_test_split(\n",
        "    X_df,\n",
        "    y_df,\n",
        "    test_size=0.2,\n",
        "    random_state=1\n",
        ")"
      ]
    },
    {
      "cell_type": "code",
      "execution_count": 6,
      "metadata": {},
      "outputs": [
        {
          "data": {
            "text/plain": [
              "OverTime\n",
              "0    855\n",
              "1    321\n",
              "Name: count, dtype: int64"
            ]
          },
          "execution_count": 6,
          "metadata": {},
          "output_type": "execute_result"
        }
      ],
      "source": [
        "# Convert your X data to numeric data types however you see fit\n",
        "# Add new code cells as necessary\n",
        "overtime_label_encoder = LabelEncoder()\n",
        "overtime_label_encoder.fit(X_train['OverTime'])\n",
        "\n",
        "X_train['OverTime'] = overtime_label_encoder.transform(X_train['OverTime'])\n",
        "X_test['OverTime'] = overtime_label_encoder.transform(X_test['OverTime'])\n",
        "\n",
        "X_train['OverTime'].value_counts()"
      ]
    },
    {
      "cell_type": "code",
      "execution_count": 7,
      "metadata": {},
      "outputs": [],
      "source": [
        "# Create a StandardScaler\n",
        "scaler = StandardScaler()\n",
        "\n",
        "# Fit the StandardScaler to the training data\n",
        "scaler.fit(X_train)\n",
        "\n",
        "# Scale the training and testing data\n",
        "X_train_scaled = scaler.transform(X_train)\n",
        "X_test_scaled = scaler.transform(X_test)\n"
      ]
    },
    {
      "cell_type": "code",
      "execution_count": 8,
      "metadata": {
        "colab": {
          "base_uri": "https://localhost:8080/"
        },
        "id": "-z0Mky8vQSz4",
        "outputId": "debefc85-c20b-48f5-f4d9-91eadd65d36a"
      },
      "outputs": [],
      "source": [
        "# Create a OneHotEncoder for the Department column\n",
        "from sklearn.preprocessing import OneHotEncoder\n",
        "department_encoder = OneHotEncoder(sparse_output=False)\n",
        "\n",
        "# Fit the encoder to the training data\n",
        "department_encoder.fit_transform(y_train[['Department']])\n",
        "\n",
        "# Create two new variables by applying the encoder\n",
        "# to the training and testing data\n",
        "y_train_department_encoded = department_encoder.transform(y_train[['Department']])\n",
        "y_test_department_encoded = department_encoder.transform(y_test[['Department']])"
      ]
    },
    {
      "cell_type": "code",
      "execution_count": 9,
      "metadata": {},
      "outputs": [],
      "source": [
        "# Create a OneHotEncoder for the Attrition column\n",
        "attrition_encoder = OneHotEncoder(sparse_output=False)\n",
        "\n",
        "# Fit the encoder to the training data\n",
        "attrition_encoder.fit_transform(y_train[[\"Attrition\"]])\n",
        "\n",
        "# Create two new variables by applying the encoder to the training and testing data\n",
        "y_train_attrition_encoded = attrition_encoder.transform(y_train[['Attrition']])\n",
        "y_test_attrition_encoded = attrition_encoder.transform(y_test[['Attrition']])\n"
      ]
    },
    {
      "cell_type": "code",
      "execution_count": 10,
      "metadata": {},
      "outputs": [
        {
          "name": "stdout",
          "output_type": "stream",
          "text": [
            "(1176, 3)\n",
            "(1176, 2)\n"
          ]
        }
      ],
      "source": [
        "print(y_train_department_encoded.shape)\n",
        "print(y_train_attrition_encoded.shape)\n"
      ]
    },
    {
      "cell_type": "markdown",
      "metadata": {
        "id": "ykNmu_WWGc3T"
      },
      "source": [
        "## Create, Compile, and Train the Model"
      ]
    },
    {
      "cell_type": "code",
      "execution_count": 11,
      "metadata": {
        "id": "WUptZqmSGc3T"
      },
      "outputs": [],
      "source": [
        "# Find the number of columns in the X training data\n",
        "num_columns = X_train_scaled.shape[1]\n",
        "\n",
        "# Create the input layer\n",
        "input_layer = layers.Input(shape=(num_columns,), name= \"input\")\n",
        "\n",
        "# Create at least two shared layers\n",
        "shared_layer_1 = layers.Dense(64, activation=\"relu\", name= \"shared_layer_1\")(input_layer)\n",
        "shared_layer_2 = layers.Dense(128, activation=\"relu\", name= \"shared_layer_2\")(shared_layer_1)"
      ]
    },
    {
      "cell_type": "code",
      "execution_count": 12,
      "metadata": {
        "id": "JukjTm2yTEqd"
      },
      "outputs": [],
      "source": [
        "# Create a branch for Department\n",
        "# with a hidden layer and an output layer\n",
        "\n",
        "# Create the hidden layer\n",
        "department_hidden_layer = layers.Dense(32, activation=\"relu\", name= \"department_hidden_layer\")(shared_layer_2)\n",
        "\n",
        "# Create the output layer\n",
        "department_output_layer = layers.Dense(y_train_department_encoded.shape[1], activation=\"softmax\", name= \"department_output\")(department_hidden_layer)\n"
      ]
    },
    {
      "cell_type": "code",
      "execution_count": 13,
      "metadata": {
        "id": "9OqhUiOJUBkR"
      },
      "outputs": [],
      "source": [
        "# Create a branch for Attrition\n",
        "# with a hidden layer and an output layer\n",
        "\n",
        "# Create the hidden layer\n",
        "attrition_hidden_layer = Dense(32, activation=\"relu\", name= \"attrition_hidden\")(shared_layer_2)\n",
        "\n",
        "# Create the output layer\n",
        "attrition_output_layer = layers.Dense(y_train_attrition_encoded.shape[1], activation= \"sigmoid\", name= \"attrition_output\")(attrition_hidden_layer)\n"
      ]
    },
    {
      "cell_type": "code",
      "execution_count": 14,
      "metadata": {
        "colab": {
          "base_uri": "https://localhost:8080/"
        },
        "id": "twmuejdxGc3T",
        "outputId": "25096308-b68b-42e4-e4ea-ae82e97c435a"
      },
      "outputs": [
        {
          "data": {
            "text/html": [
              "<pre style=\"white-space:pre;overflow-x:auto;line-height:normal;font-family:Menlo,'DejaVu Sans Mono',consolas,'Courier New',monospace\"><span style=\"font-weight: bold\">Model: \"functional\"</span>\n",
              "</pre>\n"
            ],
            "text/plain": [
              "\u001b[1mModel: \"functional\"\u001b[0m\n"
            ]
          },
          "metadata": {},
          "output_type": "display_data"
        },
        {
          "data": {
            "text/html": [
              "<pre style=\"white-space:pre;overflow-x:auto;line-height:normal;font-family:Menlo,'DejaVu Sans Mono',consolas,'Courier New',monospace\">┏━━━━━━━━━━━━━━━━━━━━━┳━━━━━━━━━━━━━━━━━━━┳━━━━━━━━━━━━┳━━━━━━━━━━━━━━━━━━━┓\n",
              "┃<span style=\"font-weight: bold\"> Layer (type)        </span>┃<span style=\"font-weight: bold\"> Output Shape      </span>┃<span style=\"font-weight: bold\">    Param # </span>┃<span style=\"font-weight: bold\"> Connected to      </span>┃\n",
              "┡━━━━━━━━━━━━━━━━━━━━━╇━━━━━━━━━━━━━━━━━━━╇━━━━━━━━━━━━╇━━━━━━━━━━━━━━━━━━━┩\n",
              "│ input (<span style=\"color: #0087ff; text-decoration-color: #0087ff\">InputLayer</span>)  │ (<span style=\"color: #00d7ff; text-decoration-color: #00d7ff\">None</span>, <span style=\"color: #00af00; text-decoration-color: #00af00\">10</span>)        │          <span style=\"color: #00af00; text-decoration-color: #00af00\">0</span> │ -                 │\n",
              "├─────────────────────┼───────────────────┼────────────┼───────────────────┤\n",
              "│ shared_layer_1      │ (<span style=\"color: #00d7ff; text-decoration-color: #00d7ff\">None</span>, <span style=\"color: #00af00; text-decoration-color: #00af00\">64</span>)        │        <span style=\"color: #00af00; text-decoration-color: #00af00\">704</span> │ input[<span style=\"color: #00af00; text-decoration-color: #00af00\">0</span>][<span style=\"color: #00af00; text-decoration-color: #00af00\">0</span>]       │\n",
              "│ (<span style=\"color: #0087ff; text-decoration-color: #0087ff\">Dense</span>)             │                   │            │                   │\n",
              "├─────────────────────┼───────────────────┼────────────┼───────────────────┤\n",
              "│ shared_layer_2      │ (<span style=\"color: #00d7ff; text-decoration-color: #00d7ff\">None</span>, <span style=\"color: #00af00; text-decoration-color: #00af00\">128</span>)       │      <span style=\"color: #00af00; text-decoration-color: #00af00\">8,320</span> │ shared_layer_1[<span style=\"color: #00af00; text-decoration-color: #00af00\">0</span>… │\n",
              "│ (<span style=\"color: #0087ff; text-decoration-color: #0087ff\">Dense</span>)             │                   │            │                   │\n",
              "├─────────────────────┼───────────────────┼────────────┼───────────────────┤\n",
              "│ department_hidden_… │ (<span style=\"color: #00d7ff; text-decoration-color: #00d7ff\">None</span>, <span style=\"color: #00af00; text-decoration-color: #00af00\">32</span>)        │      <span style=\"color: #00af00; text-decoration-color: #00af00\">4,128</span> │ shared_layer_2[<span style=\"color: #00af00; text-decoration-color: #00af00\">0</span>… │\n",
              "│ (<span style=\"color: #0087ff; text-decoration-color: #0087ff\">Dense</span>)             │                   │            │                   │\n",
              "├─────────────────────┼───────────────────┼────────────┼───────────────────┤\n",
              "│ attrition_hidden    │ (<span style=\"color: #00d7ff; text-decoration-color: #00d7ff\">None</span>, <span style=\"color: #00af00; text-decoration-color: #00af00\">32</span>)        │      <span style=\"color: #00af00; text-decoration-color: #00af00\">4,128</span> │ shared_layer_2[<span style=\"color: #00af00; text-decoration-color: #00af00\">0</span>… │\n",
              "│ (<span style=\"color: #0087ff; text-decoration-color: #0087ff\">Dense</span>)             │                   │            │                   │\n",
              "├─────────────────────┼───────────────────┼────────────┼───────────────────┤\n",
              "│ department_output   │ (<span style=\"color: #00d7ff; text-decoration-color: #00d7ff\">None</span>, <span style=\"color: #00af00; text-decoration-color: #00af00\">3</span>)         │         <span style=\"color: #00af00; text-decoration-color: #00af00\">99</span> │ department_hidde… │\n",
              "│ (<span style=\"color: #0087ff; text-decoration-color: #0087ff\">Dense</span>)             │                   │            │                   │\n",
              "├─────────────────────┼───────────────────┼────────────┼───────────────────┤\n",
              "│ attrition_output    │ (<span style=\"color: #00d7ff; text-decoration-color: #00d7ff\">None</span>, <span style=\"color: #00af00; text-decoration-color: #00af00\">2</span>)         │         <span style=\"color: #00af00; text-decoration-color: #00af00\">66</span> │ attrition_hidden… │\n",
              "│ (<span style=\"color: #0087ff; text-decoration-color: #0087ff\">Dense</span>)             │                   │            │                   │\n",
              "└─────────────────────┴───────────────────┴────────────┴───────────────────┘\n",
              "</pre>\n"
            ],
            "text/plain": [
              "┏━━━━━━━━━━━━━━━━━━━━━┳━━━━━━━━━━━━━━━━━━━┳━━━━━━━━━━━━┳━━━━━━━━━━━━━━━━━━━┓\n",
              "┃\u001b[1m \u001b[0m\u001b[1mLayer (type)       \u001b[0m\u001b[1m \u001b[0m┃\u001b[1m \u001b[0m\u001b[1mOutput Shape     \u001b[0m\u001b[1m \u001b[0m┃\u001b[1m \u001b[0m\u001b[1m   Param #\u001b[0m\u001b[1m \u001b[0m┃\u001b[1m \u001b[0m\u001b[1mConnected to     \u001b[0m\u001b[1m \u001b[0m┃\n",
              "┡━━━━━━━━━━━━━━━━━━━━━╇━━━━━━━━━━━━━━━━━━━╇━━━━━━━━━━━━╇━━━━━━━━━━━━━━━━━━━┩\n",
              "│ input (\u001b[38;5;33mInputLayer\u001b[0m)  │ (\u001b[38;5;45mNone\u001b[0m, \u001b[38;5;34m10\u001b[0m)        │          \u001b[38;5;34m0\u001b[0m │ -                 │\n",
              "├─────────────────────┼───────────────────┼────────────┼───────────────────┤\n",
              "│ shared_layer_1      │ (\u001b[38;5;45mNone\u001b[0m, \u001b[38;5;34m64\u001b[0m)        │        \u001b[38;5;34m704\u001b[0m │ input[\u001b[38;5;34m0\u001b[0m][\u001b[38;5;34m0\u001b[0m]       │\n",
              "│ (\u001b[38;5;33mDense\u001b[0m)             │                   │            │                   │\n",
              "├─────────────────────┼───────────────────┼────────────┼───────────────────┤\n",
              "│ shared_layer_2      │ (\u001b[38;5;45mNone\u001b[0m, \u001b[38;5;34m128\u001b[0m)       │      \u001b[38;5;34m8,320\u001b[0m │ shared_layer_1[\u001b[38;5;34m0\u001b[0m… │\n",
              "│ (\u001b[38;5;33mDense\u001b[0m)             │                   │            │                   │\n",
              "├─────────────────────┼───────────────────┼────────────┼───────────────────┤\n",
              "│ department_hidden_… │ (\u001b[38;5;45mNone\u001b[0m, \u001b[38;5;34m32\u001b[0m)        │      \u001b[38;5;34m4,128\u001b[0m │ shared_layer_2[\u001b[38;5;34m0\u001b[0m… │\n",
              "│ (\u001b[38;5;33mDense\u001b[0m)             │                   │            │                   │\n",
              "├─────────────────────┼───────────────────┼────────────┼───────────────────┤\n",
              "│ attrition_hidden    │ (\u001b[38;5;45mNone\u001b[0m, \u001b[38;5;34m32\u001b[0m)        │      \u001b[38;5;34m4,128\u001b[0m │ shared_layer_2[\u001b[38;5;34m0\u001b[0m… │\n",
              "│ (\u001b[38;5;33mDense\u001b[0m)             │                   │            │                   │\n",
              "├─────────────────────┼───────────────────┼────────────┼───────────────────┤\n",
              "│ department_output   │ (\u001b[38;5;45mNone\u001b[0m, \u001b[38;5;34m3\u001b[0m)         │         \u001b[38;5;34m99\u001b[0m │ department_hidde… │\n",
              "│ (\u001b[38;5;33mDense\u001b[0m)             │                   │            │                   │\n",
              "├─────────────────────┼───────────────────┼────────────┼───────────────────┤\n",
              "│ attrition_output    │ (\u001b[38;5;45mNone\u001b[0m, \u001b[38;5;34m2\u001b[0m)         │         \u001b[38;5;34m66\u001b[0m │ attrition_hidden… │\n",
              "│ (\u001b[38;5;33mDense\u001b[0m)             │                   │            │                   │\n",
              "└─────────────────────┴───────────────────┴────────────┴───────────────────┘\n"
            ]
          },
          "metadata": {},
          "output_type": "display_data"
        },
        {
          "data": {
            "text/html": [
              "<pre style=\"white-space:pre;overflow-x:auto;line-height:normal;font-family:Menlo,'DejaVu Sans Mono',consolas,'Courier New',monospace\"><span style=\"font-weight: bold\"> Total params: </span><span style=\"color: #00af00; text-decoration-color: #00af00\">17,445</span> (68.14 KB)\n",
              "</pre>\n"
            ],
            "text/plain": [
              "\u001b[1m Total params: \u001b[0m\u001b[38;5;34m17,445\u001b[0m (68.14 KB)\n"
            ]
          },
          "metadata": {},
          "output_type": "display_data"
        },
        {
          "data": {
            "text/html": [
              "<pre style=\"white-space:pre;overflow-x:auto;line-height:normal;font-family:Menlo,'DejaVu Sans Mono',consolas,'Courier New',monospace\"><span style=\"font-weight: bold\"> Trainable params: </span><span style=\"color: #00af00; text-decoration-color: #00af00\">17,445</span> (68.14 KB)\n",
              "</pre>\n"
            ],
            "text/plain": [
              "\u001b[1m Trainable params: \u001b[0m\u001b[38;5;34m17,445\u001b[0m (68.14 KB)\n"
            ]
          },
          "metadata": {},
          "output_type": "display_data"
        },
        {
          "data": {
            "text/html": [
              "<pre style=\"white-space:pre;overflow-x:auto;line-height:normal;font-family:Menlo,'DejaVu Sans Mono',consolas,'Courier New',monospace\"><span style=\"font-weight: bold\"> Non-trainable params: </span><span style=\"color: #00af00; text-decoration-color: #00af00\">0</span> (0.00 B)\n",
              "</pre>\n"
            ],
            "text/plain": [
              "\u001b[1m Non-trainable params: \u001b[0m\u001b[38;5;34m0\u001b[0m (0.00 B)\n"
            ]
          },
          "metadata": {},
          "output_type": "display_data"
        }
      ],
      "source": [
        "# Create the model\n",
        "\n",
        "model = Model(\n",
        "    inputs = input_layer,\n",
        "    outputs = [department_output_layer, attrition_output_layer]\n",
        ")\n",
        "\n",
        "# Compile the model\n",
        "model.compile(\n",
        "    optimizer=\"adam\",\n",
        "    loss={\n",
        "        \"department_output\": \"categorical_crossentropy\",\n",
        "        \"attrition_output\": \"binary_crossentropy\",\n",
        "    },\n",
        "    metrics={\n",
        "        \"department_output\": \"accuracy\",\n",
        "        \"attrition_output\": \"accuracy\",\n",
        "    }\n",
        ")\n",
        "\n",
        "\n",
        "# Summarize the model\n",
        "model.summary()"
      ]
    },
    {
      "cell_type": "code",
      "execution_count": 15,
      "metadata": {
        "colab": {
          "base_uri": "https://localhost:8080/"
        },
        "id": "c8oGy0dpGc3U",
        "outputId": "cc667d43-28cf-42d4-d719-c2bc02888d30"
      },
      "outputs": [
        {
          "name": "stdout",
          "output_type": "stream",
          "text": [
            "Epoch 1/100\n",
            "37/37 - 1s - 20ms/step - attrition_output_accuracy: 0.8070 - attrition_output_loss: 0.4826 - department_output_accuracy: 0.6429 - department_output_loss: 0.5281 - loss: 1.0099 - val_attrition_output_accuracy: 0.8027 - val_attrition_output_loss: 0.4672 - val_department_output_accuracy: 0.6327 - val_department_output_loss: 0.4749 - val_loss: 0.9449\n",
            "Epoch 2/100\n",
            "37/37 - 0s - 1ms/step - attrition_output_accuracy: 0.8478 - attrition_output_loss: 0.3819 - department_output_accuracy: 0.6590 - department_output_loss: 0.4829 - loss: 0.8635 - val_attrition_output_accuracy: 0.8095 - val_attrition_output_loss: 0.4551 - val_department_output_accuracy: 0.6327 - val_department_output_loss: 0.4726 - val_loss: 0.9317\n",
            "Epoch 3/100\n",
            "37/37 - 0s - 1ms/step - attrition_output_accuracy: 0.8597 - attrition_output_loss: 0.3554 - department_output_accuracy: 0.6590 - department_output_loss: 0.4769 - loss: 0.8341 - val_attrition_output_accuracy: 0.8095 - val_attrition_output_loss: 0.4782 - val_department_output_accuracy: 0.6327 - val_department_output_loss: 0.4710 - val_loss: 0.9520\n",
            "Epoch 4/100\n",
            "37/37 - 0s - 1ms/step - attrition_output_accuracy: 0.8716 - attrition_output_loss: 0.3505 - department_output_accuracy: 0.6590 - department_output_loss: 0.4750 - loss: 0.8259 - val_attrition_output_accuracy: 0.8231 - val_attrition_output_loss: 0.4449 - val_department_output_accuracy: 0.6327 - val_department_output_loss: 0.4731 - val_loss: 0.9250\n",
            "Epoch 5/100\n",
            "37/37 - 0s - 1ms/step - attrition_output_accuracy: 0.8707 - attrition_output_loss: 0.3346 - department_output_accuracy: 0.6590 - department_output_loss: 0.4712 - loss: 0.8042 - val_attrition_output_accuracy: 0.8231 - val_attrition_output_loss: 0.4250 - val_department_output_accuracy: 0.6327 - val_department_output_loss: 0.4712 - val_loss: 0.9001\n",
            "Epoch 6/100\n",
            "37/37 - 0s - 988us/step - attrition_output_accuracy: 0.8716 - attrition_output_loss: 0.3274 - department_output_accuracy: 0.6590 - department_output_loss: 0.4684 - loss: 0.7952 - val_attrition_output_accuracy: 0.8231 - val_attrition_output_loss: 0.4340 - val_department_output_accuracy: 0.6327 - val_department_output_loss: 0.4719 - val_loss: 0.9105\n",
            "Epoch 7/100\n",
            "37/37 - 0s - 986us/step - attrition_output_accuracy: 0.8801 - attrition_output_loss: 0.3113 - department_output_accuracy: 0.6590 - department_output_loss: 0.4666 - loss: 0.7764 - val_attrition_output_accuracy: 0.8163 - val_attrition_output_loss: 0.4343 - val_department_output_accuracy: 0.6327 - val_department_output_loss: 0.4738 - val_loss: 0.9095\n",
            "Epoch 8/100\n",
            "37/37 - 0s - 989us/step - attrition_output_accuracy: 0.8852 - attrition_output_loss: 0.3020 - department_output_accuracy: 0.6590 - department_output_loss: 0.4632 - loss: 0.7664 - val_attrition_output_accuracy: 0.8197 - val_attrition_output_loss: 0.4390 - val_department_output_accuracy: 0.6327 - val_department_output_loss: 0.4752 - val_loss: 0.9178\n",
            "Epoch 9/100\n",
            "37/37 - 0s - 978us/step - attrition_output_accuracy: 0.8844 - attrition_output_loss: 0.2947 - department_output_accuracy: 0.6590 - department_output_loss: 0.4606 - loss: 0.7563 - val_attrition_output_accuracy: 0.8231 - val_attrition_output_loss: 0.4354 - val_department_output_accuracy: 0.6327 - val_department_output_loss: 0.4764 - val_loss: 0.9149\n",
            "Epoch 10/100\n",
            "37/37 - 0s - 997us/step - attrition_output_accuracy: 0.8844 - attrition_output_loss: 0.2880 - department_output_accuracy: 0.6616 - department_output_loss: 0.4599 - loss: 0.7474 - val_attrition_output_accuracy: 0.8231 - val_attrition_output_loss: 0.4750 - val_department_output_accuracy: 0.6293 - val_department_output_loss: 0.4786 - val_loss: 0.9545\n",
            "Epoch 11/100\n",
            "37/37 - 0s - 978us/step - attrition_output_accuracy: 0.8980 - attrition_output_loss: 0.2818 - department_output_accuracy: 0.6582 - department_output_loss: 0.4568 - loss: 0.7381 - val_attrition_output_accuracy: 0.8061 - val_attrition_output_loss: 0.4541 - val_department_output_accuracy: 0.6327 - val_department_output_loss: 0.4817 - val_loss: 0.9393\n",
            "Epoch 12/100\n",
            "37/37 - 0s - 2ms/step - attrition_output_accuracy: 0.8903 - attrition_output_loss: 0.2756 - department_output_accuracy: 0.6616 - department_output_loss: 0.4535 - loss: 0.7283 - val_attrition_output_accuracy: 0.8197 - val_attrition_output_loss: 0.4561 - val_department_output_accuracy: 0.6259 - val_department_output_loss: 0.4821 - val_loss: 0.9413\n",
            "Epoch 13/100\n",
            "37/37 - 0s - 987us/step - attrition_output_accuracy: 0.8903 - attrition_output_loss: 0.2632 - department_output_accuracy: 0.6718 - department_output_loss: 0.4501 - loss: 0.7143 - val_attrition_output_accuracy: 0.8095 - val_attrition_output_loss: 0.4853 - val_department_output_accuracy: 0.6327 - val_department_output_loss: 0.4877 - val_loss: 0.9749\n",
            "Epoch 14/100\n",
            "37/37 - 0s - 975us/step - attrition_output_accuracy: 0.8946 - attrition_output_loss: 0.2567 - department_output_accuracy: 0.6658 - department_output_loss: 0.4478 - loss: 0.7031 - val_attrition_output_accuracy: 0.8129 - val_attrition_output_loss: 0.4820 - val_department_output_accuracy: 0.6224 - val_department_output_loss: 0.4868 - val_loss: 0.9665\n",
            "Epoch 15/100\n",
            "37/37 - 0s - 972us/step - attrition_output_accuracy: 0.9014 - attrition_output_loss: 0.2535 - department_output_accuracy: 0.6735 - department_output_loss: 0.4417 - loss: 0.6957 - val_attrition_output_accuracy: 0.8095 - val_attrition_output_loss: 0.4785 - val_department_output_accuracy: 0.6190 - val_department_output_loss: 0.4890 - val_loss: 0.9674\n",
            "Epoch 16/100\n",
            "37/37 - 0s - 983us/step - attrition_output_accuracy: 0.9031 - attrition_output_loss: 0.2517 - department_output_accuracy: 0.6743 - department_output_loss: 0.4399 - loss: 0.6915 - val_attrition_output_accuracy: 0.8231 - val_attrition_output_loss: 0.4898 - val_department_output_accuracy: 0.6020 - val_department_output_loss: 0.4889 - val_loss: 0.9838\n",
            "Epoch 17/100\n",
            "37/37 - 0s - 966us/step - attrition_output_accuracy: 0.9124 - attrition_output_loss: 0.2361 - department_output_accuracy: 0.6803 - department_output_loss: 0.4371 - loss: 0.6712 - val_attrition_output_accuracy: 0.8095 - val_attrition_output_loss: 0.5214 - val_department_output_accuracy: 0.6156 - val_department_output_loss: 0.4913 - val_loss: 1.0216\n",
            "Epoch 18/100\n",
            "37/37 - 0s - 987us/step - attrition_output_accuracy: 0.9022 - attrition_output_loss: 0.2334 - department_output_accuracy: 0.6854 - department_output_loss: 0.4319 - loss: 0.6650 - val_attrition_output_accuracy: 0.8231 - val_attrition_output_loss: 0.4923 - val_department_output_accuracy: 0.6156 - val_department_output_loss: 0.4942 - val_loss: 0.9882\n",
            "Epoch 19/100\n",
            "37/37 - 0s - 967us/step - attrition_output_accuracy: 0.9150 - attrition_output_loss: 0.2199 - department_output_accuracy: 0.6896 - department_output_loss: 0.4275 - loss: 0.6482 - val_attrition_output_accuracy: 0.8095 - val_attrition_output_loss: 0.5215 - val_department_output_accuracy: 0.6224 - val_department_output_loss: 0.4956 - val_loss: 1.0184\n",
            "Epoch 20/100\n",
            "37/37 - 0s - 964us/step - attrition_output_accuracy: 0.9201 - attrition_output_loss: 0.2141 - department_output_accuracy: 0.7015 - department_output_loss: 0.4240 - loss: 0.6375 - val_attrition_output_accuracy: 0.8061 - val_attrition_output_loss: 0.5446 - val_department_output_accuracy: 0.5952 - val_department_output_loss: 0.4960 - val_loss: 1.0400\n",
            "Epoch 21/100\n",
            "37/37 - 0s - 966us/step - attrition_output_accuracy: 0.9158 - attrition_output_loss: 0.2130 - department_output_accuracy: 0.7049 - department_output_loss: 0.4194 - loss: 0.6325 - val_attrition_output_accuracy: 0.8027 - val_attrition_output_loss: 0.5500 - val_department_output_accuracy: 0.5986 - val_department_output_loss: 0.4998 - val_loss: 1.0487\n",
            "Epoch 22/100\n",
            "37/37 - 0s - 985us/step - attrition_output_accuracy: 0.9150 - attrition_output_loss: 0.2067 - department_output_accuracy: 0.7134 - department_output_loss: 0.4131 - loss: 0.6200 - val_attrition_output_accuracy: 0.8061 - val_attrition_output_loss: 0.5565 - val_department_output_accuracy: 0.6054 - val_department_output_loss: 0.5074 - val_loss: 1.0648\n",
            "Epoch 23/100\n",
            "37/37 - 0s - 982us/step - attrition_output_accuracy: 0.9175 - attrition_output_loss: 0.1985 - department_output_accuracy: 0.7032 - department_output_loss: 0.4154 - loss: 0.6141 - val_attrition_output_accuracy: 0.8197 - val_attrition_output_loss: 0.5402 - val_department_output_accuracy: 0.5714 - val_department_output_loss: 0.5026 - val_loss: 1.0387\n",
            "Epoch 24/100\n",
            "37/37 - 0s - 968us/step - attrition_output_accuracy: 0.9226 - attrition_output_loss: 0.1947 - department_output_accuracy: 0.7177 - department_output_loss: 0.4049 - loss: 0.5994 - val_attrition_output_accuracy: 0.8163 - val_attrition_output_loss: 0.5708 - val_department_output_accuracy: 0.5850 - val_department_output_loss: 0.5044 - val_loss: 1.0688\n",
            "Epoch 25/100\n",
            "37/37 - 0s - 965us/step - attrition_output_accuracy: 0.9269 - attrition_output_loss: 0.1891 - department_output_accuracy: 0.7219 - department_output_loss: 0.4007 - loss: 0.5902 - val_attrition_output_accuracy: 0.8129 - val_attrition_output_loss: 0.5736 - val_department_output_accuracy: 0.5816 - val_department_output_loss: 0.5154 - val_loss: 1.0812\n",
            "Epoch 26/100\n",
            "37/37 - 0s - 974us/step - attrition_output_accuracy: 0.9354 - attrition_output_loss: 0.1767 - department_output_accuracy: 0.7338 - department_output_loss: 0.3948 - loss: 0.5699 - val_attrition_output_accuracy: 0.8095 - val_attrition_output_loss: 0.5829 - val_department_output_accuracy: 0.5476 - val_department_output_loss: 0.5107 - val_loss: 1.0904\n",
            "Epoch 27/100\n",
            "37/37 - 0s - 971us/step - attrition_output_accuracy: 0.9345 - attrition_output_loss: 0.1679 - department_output_accuracy: 0.7321 - department_output_loss: 0.3913 - loss: 0.5582 - val_attrition_output_accuracy: 0.8095 - val_attrition_output_loss: 0.6173 - val_department_output_accuracy: 0.5782 - val_department_output_loss: 0.5218 - val_loss: 1.1408\n",
            "Epoch 28/100\n",
            "37/37 - 0s - 974us/step - attrition_output_accuracy: 0.9413 - attrition_output_loss: 0.1622 - department_output_accuracy: 0.7406 - department_output_loss: 0.3887 - loss: 0.5488 - val_attrition_output_accuracy: 0.8027 - val_attrition_output_loss: 0.5961 - val_department_output_accuracy: 0.5680 - val_department_output_loss: 0.5166 - val_loss: 1.1172\n",
            "Epoch 29/100\n",
            "37/37 - 0s - 981us/step - attrition_output_accuracy: 0.9447 - attrition_output_loss: 0.1595 - department_output_accuracy: 0.7466 - department_output_loss: 0.3791 - loss: 0.5379 - val_attrition_output_accuracy: 0.8027 - val_attrition_output_loss: 0.6194 - val_department_output_accuracy: 0.5374 - val_department_output_loss: 0.5316 - val_loss: 1.1611\n",
            "Epoch 30/100\n",
            "37/37 - 0s - 964us/step - attrition_output_accuracy: 0.9439 - attrition_output_loss: 0.1522 - department_output_accuracy: 0.7611 - department_output_loss: 0.3723 - loss: 0.5253 - val_attrition_output_accuracy: 0.7993 - val_attrition_output_loss: 0.6914 - val_department_output_accuracy: 0.5306 - val_department_output_loss: 0.5304 - val_loss: 1.2064\n",
            "Epoch 31/100\n",
            "37/37 - 0s - 976us/step - attrition_output_accuracy: 0.9439 - attrition_output_loss: 0.1420 - department_output_accuracy: 0.7543 - department_output_loss: 0.3733 - loss: 0.5144 - val_attrition_output_accuracy: 0.7993 - val_attrition_output_loss: 0.7018 - val_department_output_accuracy: 0.5646 - val_department_output_loss: 0.5288 - val_loss: 1.2287\n",
            "Epoch 32/100\n",
            "37/37 - 0s - 969us/step - attrition_output_accuracy: 0.9524 - attrition_output_loss: 0.1326 - department_output_accuracy: 0.7670 - department_output_loss: 0.3668 - loss: 0.4999 - val_attrition_output_accuracy: 0.7823 - val_attrition_output_loss: 0.6525 - val_department_output_accuracy: 0.5714 - val_department_output_loss: 0.5307 - val_loss: 1.1893\n",
            "Epoch 33/100\n",
            "37/37 - 0s - 971us/step - attrition_output_accuracy: 0.9473 - attrition_output_loss: 0.1299 - department_output_accuracy: 0.7636 - department_output_loss: 0.3601 - loss: 0.4901 - val_attrition_output_accuracy: 0.7755 - val_attrition_output_loss: 0.7086 - val_department_output_accuracy: 0.5476 - val_department_output_loss: 0.5319 - val_loss: 1.2530\n",
            "Epoch 34/100\n",
            "37/37 - 0s - 993us/step - attrition_output_accuracy: 0.9592 - attrition_output_loss: 0.1177 - department_output_accuracy: 0.7696 - department_output_loss: 0.3528 - loss: 0.4692 - val_attrition_output_accuracy: 0.7959 - val_attrition_output_loss: 0.6789 - val_department_output_accuracy: 0.5714 - val_department_output_loss: 0.5456 - val_loss: 1.2311\n",
            "Epoch 35/100\n",
            "37/37 - 0s - 1ms/step - attrition_output_accuracy: 0.9634 - attrition_output_loss: 0.1189 - department_output_accuracy: 0.7781 - department_output_loss: 0.3447 - loss: 0.4641 - val_attrition_output_accuracy: 0.7925 - val_attrition_output_loss: 0.7268 - val_department_output_accuracy: 0.5612 - val_department_output_loss: 0.5516 - val_loss: 1.2686\n",
            "Epoch 36/100\n",
            "37/37 - 0s - 1ms/step - attrition_output_accuracy: 0.9643 - attrition_output_loss: 0.1050 - department_output_accuracy: 0.7874 - department_output_loss: 0.3423 - loss: 0.4464 - val_attrition_output_accuracy: 0.7925 - val_attrition_output_loss: 0.7518 - val_department_output_accuracy: 0.5476 - val_department_output_loss: 0.5524 - val_loss: 1.3049\n",
            "Epoch 37/100\n",
            "37/37 - 0s - 1ms/step - attrition_output_accuracy: 0.9566 - attrition_output_loss: 0.1126 - department_output_accuracy: 0.7866 - department_output_loss: 0.3353 - loss: 0.4472 - val_attrition_output_accuracy: 0.7891 - val_attrition_output_loss: 0.7614 - val_department_output_accuracy: 0.5510 - val_department_output_loss: 0.5679 - val_loss: 1.3563\n",
            "Epoch 38/100\n",
            "37/37 - 0s - 1ms/step - attrition_output_accuracy: 0.9549 - attrition_output_loss: 0.1049 - department_output_accuracy: 0.7959 - department_output_loss: 0.3261 - loss: 0.4313 - val_attrition_output_accuracy: 0.7959 - val_attrition_output_loss: 0.8426 - val_department_output_accuracy: 0.5782 - val_department_output_loss: 0.5577 - val_loss: 1.4102\n",
            "Epoch 39/100\n",
            "37/37 - 0s - 1ms/step - attrition_output_accuracy: 0.9651 - attrition_output_loss: 0.1010 - department_output_accuracy: 0.8129 - department_output_loss: 0.3195 - loss: 0.4214 - val_attrition_output_accuracy: 0.7891 - val_attrition_output_loss: 0.8283 - val_department_output_accuracy: 0.5204 - val_department_output_loss: 0.5567 - val_loss: 1.3790\n",
            "Epoch 40/100\n",
            "37/37 - 0s - 992us/step - attrition_output_accuracy: 0.9719 - attrition_output_loss: 0.0887 - department_output_accuracy: 0.8061 - department_output_loss: 0.3162 - loss: 0.4053 - val_attrition_output_accuracy: 0.7891 - val_attrition_output_loss: 0.8437 - val_department_output_accuracy: 0.5170 - val_department_output_loss: 0.5697 - val_loss: 1.4040\n",
            "Epoch 41/100\n",
            "37/37 - 0s - 975us/step - attrition_output_accuracy: 0.9711 - attrition_output_loss: 0.0835 - department_output_accuracy: 0.8129 - department_output_loss: 0.3151 - loss: 0.3982 - val_attrition_output_accuracy: 0.7959 - val_attrition_output_loss: 0.8780 - val_department_output_accuracy: 0.5612 - val_department_output_loss: 0.5574 - val_loss: 1.4319\n",
            "Epoch 42/100\n",
            "37/37 - 0s - 975us/step - attrition_output_accuracy: 0.9762 - attrition_output_loss: 0.0796 - department_output_accuracy: 0.8027 - department_output_loss: 0.3095 - loss: 0.3889 - val_attrition_output_accuracy: 0.7823 - val_attrition_output_loss: 0.8304 - val_department_output_accuracy: 0.5578 - val_department_output_loss: 0.5749 - val_loss: 1.4101\n",
            "Epoch 43/100\n",
            "37/37 - 0s - 982us/step - attrition_output_accuracy: 0.9796 - attrition_output_loss: 0.0723 - department_output_accuracy: 0.8274 - department_output_loss: 0.2998 - loss: 0.3714 - val_attrition_output_accuracy: 0.7925 - val_attrition_output_loss: 0.8828 - val_department_output_accuracy: 0.5204 - val_department_output_loss: 0.5812 - val_loss: 1.4536\n",
            "Epoch 44/100\n",
            "37/37 - 0s - 975us/step - attrition_output_accuracy: 0.9787 - attrition_output_loss: 0.0728 - department_output_accuracy: 0.8325 - department_output_loss: 0.2937 - loss: 0.3659 - val_attrition_output_accuracy: 0.7891 - val_attrition_output_loss: 0.9053 - val_department_output_accuracy: 0.5442 - val_department_output_loss: 0.5841 - val_loss: 1.4773\n",
            "Epoch 45/100\n",
            "37/37 - 0s - 986us/step - attrition_output_accuracy: 0.9821 - attrition_output_loss: 0.0662 - department_output_accuracy: 0.8359 - department_output_loss: 0.2886 - loss: 0.3552 - val_attrition_output_accuracy: 0.7891 - val_attrition_output_loss: 0.9484 - val_department_output_accuracy: 0.5408 - val_department_output_loss: 0.5845 - val_loss: 1.5305\n",
            "Epoch 46/100\n",
            "37/37 - 0s - 975us/step - attrition_output_accuracy: 0.9779 - attrition_output_loss: 0.0662 - department_output_accuracy: 0.8274 - department_output_loss: 0.2869 - loss: 0.3537 - val_attrition_output_accuracy: 0.7891 - val_attrition_output_loss: 0.9634 - val_department_output_accuracy: 0.5578 - val_department_output_loss: 0.5956 - val_loss: 1.5588\n",
            "Epoch 47/100\n",
            "37/37 - 0s - 974us/step - attrition_output_accuracy: 0.9813 - attrition_output_loss: 0.0610 - department_output_accuracy: 0.8427 - department_output_loss: 0.2786 - loss: 0.3387 - val_attrition_output_accuracy: 0.7721 - val_attrition_output_loss: 0.9754 - val_department_output_accuracy: 0.5340 - val_department_output_loss: 0.6134 - val_loss: 1.5972\n",
            "Epoch 48/100\n",
            "37/37 - 0s - 2ms/step - attrition_output_accuracy: 0.9770 - attrition_output_loss: 0.0624 - department_output_accuracy: 0.8435 - department_output_loss: 0.2778 - loss: 0.3401 - val_attrition_output_accuracy: 0.7789 - val_attrition_output_loss: 1.0218 - val_department_output_accuracy: 0.5544 - val_department_output_loss: 0.5920 - val_loss: 1.5949\n",
            "Epoch 49/100\n",
            "37/37 - 0s - 999us/step - attrition_output_accuracy: 0.9796 - attrition_output_loss: 0.0579 - department_output_accuracy: 0.8529 - department_output_loss: 0.2675 - loss: 0.3258 - val_attrition_output_accuracy: 0.7721 - val_attrition_output_loss: 1.0533 - val_department_output_accuracy: 0.5646 - val_department_output_loss: 0.6054 - val_loss: 1.6288\n",
            "Epoch 50/100\n",
            "37/37 - 0s - 972us/step - attrition_output_accuracy: 0.9643 - attrition_output_loss: 0.0805 - department_output_accuracy: 0.8673 - department_output_loss: 0.2600 - loss: 0.3392 - val_attrition_output_accuracy: 0.7891 - val_attrition_output_loss: 1.1151 - val_department_output_accuracy: 0.5510 - val_department_output_loss: 0.6027 - val_loss: 1.7025\n",
            "Epoch 51/100\n",
            "37/37 - 0s - 968us/step - attrition_output_accuracy: 0.9804 - attrition_output_loss: 0.0667 - department_output_accuracy: 0.8435 - department_output_loss: 0.2645 - loss: 0.3303 - val_attrition_output_accuracy: 0.7925 - val_attrition_output_loss: 1.1053 - val_department_output_accuracy: 0.5884 - val_department_output_loss: 0.6305 - val_loss: 1.7083\n",
            "Epoch 52/100\n",
            "37/37 - 0s - 972us/step - attrition_output_accuracy: 0.9872 - attrition_output_loss: 0.0469 - department_output_accuracy: 0.8605 - department_output_loss: 0.2497 - loss: 0.2965 - val_attrition_output_accuracy: 0.7925 - val_attrition_output_loss: 1.0686 - val_department_output_accuracy: 0.5646 - val_department_output_loss: 0.6291 - val_loss: 1.6979\n",
            "Epoch 53/100\n",
            "37/37 - 0s - 980us/step - attrition_output_accuracy: 0.9915 - attrition_output_loss: 0.0394 - department_output_accuracy: 0.8716 - department_output_loss: 0.2453 - loss: 0.2847 - val_attrition_output_accuracy: 0.7891 - val_attrition_output_loss: 1.0683 - val_department_output_accuracy: 0.5578 - val_department_output_loss: 0.6423 - val_loss: 1.7038\n",
            "Epoch 54/100\n",
            "37/37 - 0s - 981us/step - attrition_output_accuracy: 0.9881 - attrition_output_loss: 0.0418 - department_output_accuracy: 0.8784 - department_output_loss: 0.2386 - loss: 0.2805 - val_attrition_output_accuracy: 0.7891 - val_attrition_output_loss: 1.1267 - val_department_output_accuracy: 0.5476 - val_department_output_loss: 0.6662 - val_loss: 1.7816\n",
            "Epoch 55/100\n",
            "37/37 - 0s - 968us/step - attrition_output_accuracy: 0.9881 - attrition_output_loss: 0.0412 - department_output_accuracy: 0.8767 - department_output_loss: 0.2364 - loss: 0.2772 - val_attrition_output_accuracy: 0.7891 - val_attrition_output_loss: 1.2278 - val_department_output_accuracy: 0.5646 - val_department_output_loss: 0.6355 - val_loss: 1.8204\n",
            "Epoch 56/100\n",
            "37/37 - 0s - 982us/step - attrition_output_accuracy: 0.9898 - attrition_output_loss: 0.0369 - department_output_accuracy: 0.8801 - department_output_loss: 0.2280 - loss: 0.2655 - val_attrition_output_accuracy: 0.7823 - val_attrition_output_loss: 1.1326 - val_department_output_accuracy: 0.5884 - val_department_output_loss: 0.6374 - val_loss: 1.7623\n",
            "Epoch 57/100\n",
            "37/37 - 0s - 965us/step - attrition_output_accuracy: 0.9923 - attrition_output_loss: 0.0383 - department_output_accuracy: 0.8818 - department_output_loss: 0.2254 - loss: 0.2631 - val_attrition_output_accuracy: 0.8163 - val_attrition_output_loss: 1.1625 - val_department_output_accuracy: 0.5306 - val_department_output_loss: 0.6765 - val_loss: 1.8174\n",
            "Epoch 58/100\n",
            "37/37 - 0s - 979us/step - attrition_output_accuracy: 0.9974 - attrition_output_loss: 0.0319 - department_output_accuracy: 0.8776 - department_output_loss: 0.2237 - loss: 0.2551 - val_attrition_output_accuracy: 0.7891 - val_attrition_output_loss: 1.1946 - val_department_output_accuracy: 0.5748 - val_department_output_loss: 0.6540 - val_loss: 1.8227\n",
            "Epoch 59/100\n",
            "37/37 - 0s - 973us/step - attrition_output_accuracy: 0.9932 - attrition_output_loss: 0.0352 - department_output_accuracy: 0.8980 - department_output_loss: 0.2125 - loss: 0.2479 - val_attrition_output_accuracy: 0.7789 - val_attrition_output_loss: 1.2109 - val_department_output_accuracy: 0.5680 - val_department_output_loss: 0.6785 - val_loss: 1.8627\n",
            "Epoch 60/100\n",
            "37/37 - 0s - 976us/step - attrition_output_accuracy: 0.9923 - attrition_output_loss: 0.0308 - department_output_accuracy: 0.8861 - department_output_loss: 0.2129 - loss: 0.2433 - val_attrition_output_accuracy: 0.7755 - val_attrition_output_loss: 1.2092 - val_department_output_accuracy: 0.5680 - val_department_output_loss: 0.6997 - val_loss: 1.9145\n",
            "Epoch 61/100\n",
            "37/37 - 0s - 962us/step - attrition_output_accuracy: 0.9983 - attrition_output_loss: 0.0278 - department_output_accuracy: 0.8886 - department_output_loss: 0.2083 - loss: 0.2346 - val_attrition_output_accuracy: 0.7789 - val_attrition_output_loss: 1.2602 - val_department_output_accuracy: 0.5476 - val_department_output_loss: 0.6813 - val_loss: 1.9180\n",
            "Epoch 62/100\n",
            "37/37 - 0s - 979us/step - attrition_output_accuracy: 0.9949 - attrition_output_loss: 0.0240 - department_output_accuracy: 0.8997 - department_output_loss: 0.1983 - loss: 0.2225 - val_attrition_output_accuracy: 0.7925 - val_attrition_output_loss: 1.2848 - val_department_output_accuracy: 0.5476 - val_department_output_loss: 0.7003 - val_loss: 1.9781\n",
            "Epoch 63/100\n",
            "37/37 - 0s - 973us/step - attrition_output_accuracy: 0.9974 - attrition_output_loss: 0.0222 - department_output_accuracy: 0.9065 - department_output_loss: 0.1917 - loss: 0.2144 - val_attrition_output_accuracy: 0.7959 - val_attrition_output_loss: 1.3115 - val_department_output_accuracy: 0.5306 - val_department_output_loss: 0.6949 - val_loss: 1.9728\n",
            "Epoch 64/100\n",
            "37/37 - 0s - 965us/step - attrition_output_accuracy: 0.9949 - attrition_output_loss: 0.0254 - department_output_accuracy: 0.9124 - department_output_loss: 0.1837 - loss: 0.2095 - val_attrition_output_accuracy: 0.7687 - val_attrition_output_loss: 1.2681 - val_department_output_accuracy: 0.5782 - val_department_output_loss: 0.7253 - val_loss: 1.9921\n",
            "Epoch 65/100\n",
            "37/37 - 0s - 973us/step - attrition_output_accuracy: 0.9966 - attrition_output_loss: 0.0231 - department_output_accuracy: 0.9116 - department_output_loss: 0.1851 - loss: 0.2082 - val_attrition_output_accuracy: 0.7823 - val_attrition_output_loss: 1.2918 - val_department_output_accuracy: 0.5510 - val_department_output_loss: 0.7227 - val_loss: 2.0134\n",
            "Epoch 66/100\n",
            "37/37 - 0s - 969us/step - attrition_output_accuracy: 0.9966 - attrition_output_loss: 0.0224 - department_output_accuracy: 0.9184 - department_output_loss: 0.1790 - loss: 0.2014 - val_attrition_output_accuracy: 0.7823 - val_attrition_output_loss: 1.3307 - val_department_output_accuracy: 0.5680 - val_department_output_loss: 0.7269 - val_loss: 2.0443\n",
            "Epoch 67/100\n",
            "37/37 - 0s - 964us/step - attrition_output_accuracy: 0.9974 - attrition_output_loss: 0.0203 - department_output_accuracy: 0.9226 - department_output_loss: 0.1712 - loss: 0.1910 - val_attrition_output_accuracy: 0.8095 - val_attrition_output_loss: 1.4210 - val_department_output_accuracy: 0.5646 - val_department_output_loss: 0.7412 - val_loss: 2.1483\n",
            "Epoch 68/100\n",
            "37/37 - 0s - 963us/step - attrition_output_accuracy: 0.9957 - attrition_output_loss: 0.0244 - department_output_accuracy: 0.9218 - department_output_loss: 0.1690 - loss: 0.1933 - val_attrition_output_accuracy: 0.7925 - val_attrition_output_loss: 1.4708 - val_department_output_accuracy: 0.5612 - val_department_output_loss: 0.7618 - val_loss: 2.1920\n",
            "Epoch 69/100\n",
            "37/37 - 0s - 971us/step - attrition_output_accuracy: 0.9957 - attrition_output_loss: 0.0212 - department_output_accuracy: 0.9320 - department_output_loss: 0.1603 - loss: 0.1814 - val_attrition_output_accuracy: 0.7687 - val_attrition_output_loss: 1.4653 - val_department_output_accuracy: 0.5646 - val_department_output_loss: 0.7621 - val_loss: 2.1741\n",
            "Epoch 70/100\n",
            "37/37 - 0s - 984us/step - attrition_output_accuracy: 0.9949 - attrition_output_loss: 0.0271 - department_output_accuracy: 0.9243 - department_output_loss: 0.1626 - loss: 0.1902 - val_attrition_output_accuracy: 0.7721 - val_attrition_output_loss: 1.3254 - val_department_output_accuracy: 0.5136 - val_department_output_loss: 0.7988 - val_loss: 2.1315\n",
            "Epoch 71/100\n",
            "37/37 - 0s - 971us/step - attrition_output_accuracy: 0.9915 - attrition_output_loss: 0.0269 - department_output_accuracy: 0.9303 - department_output_loss: 0.1583 - loss: 0.1855 - val_attrition_output_accuracy: 0.7857 - val_attrition_output_loss: 1.3708 - val_department_output_accuracy: 0.5612 - val_department_output_loss: 0.7721 - val_loss: 2.1424\n",
            "Epoch 72/100\n",
            "37/37 - 0s - 974us/step - attrition_output_accuracy: 0.9949 - attrition_output_loss: 0.0237 - department_output_accuracy: 0.9320 - department_output_loss: 0.1522 - loss: 0.1749 - val_attrition_output_accuracy: 0.7891 - val_attrition_output_loss: 1.4059 - val_department_output_accuracy: 0.5374 - val_department_output_loss: 0.7931 - val_loss: 2.2017\n",
            "Epoch 73/100\n",
            "37/37 - 0s - 988us/step - attrition_output_accuracy: 0.9983 - attrition_output_loss: 0.0147 - department_output_accuracy: 0.9311 - department_output_loss: 0.1488 - loss: 0.1630 - val_attrition_output_accuracy: 0.7959 - val_attrition_output_loss: 1.5148 - val_department_output_accuracy: 0.5306 - val_department_output_loss: 0.8095 - val_loss: 2.2906\n",
            "Epoch 74/100\n",
            "37/37 - 0s - 976us/step - attrition_output_accuracy: 0.9949 - attrition_output_loss: 0.0189 - department_output_accuracy: 0.9396 - department_output_loss: 0.1475 - loss: 0.1661 - val_attrition_output_accuracy: 0.7789 - val_attrition_output_loss: 1.4759 - val_department_output_accuracy: 0.5714 - val_department_output_loss: 0.8298 - val_loss: 2.3131\n",
            "Epoch 75/100\n",
            "37/37 - 0s - 965us/step - attrition_output_accuracy: 0.9949 - attrition_output_loss: 0.0166 - department_output_accuracy: 0.9337 - department_output_loss: 0.1449 - loss: 0.1616 - val_attrition_output_accuracy: 0.7585 - val_attrition_output_loss: 1.4361 - val_department_output_accuracy: 0.5340 - val_department_output_loss: 0.8150 - val_loss: 2.2298\n",
            "Epoch 76/100\n",
            "37/37 - 0s - 978us/step - attrition_output_accuracy: 0.9940 - attrition_output_loss: 0.0191 - department_output_accuracy: 0.9422 - department_output_loss: 0.1362 - loss: 0.1551 - val_attrition_output_accuracy: 0.7721 - val_attrition_output_loss: 1.6036 - val_department_output_accuracy: 0.5238 - val_department_output_loss: 0.8570 - val_loss: 2.3875\n",
            "Epoch 77/100\n",
            "37/37 - 0s - 975us/step - attrition_output_accuracy: 0.9949 - attrition_output_loss: 0.0201 - department_output_accuracy: 0.9345 - department_output_loss: 0.1406 - loss: 0.1611 - val_attrition_output_accuracy: 0.7755 - val_attrition_output_loss: 1.5240 - val_department_output_accuracy: 0.5680 - val_department_output_loss: 0.8588 - val_loss: 2.3553\n",
            "Epoch 78/100\n",
            "37/37 - 0s - 983us/step - attrition_output_accuracy: 0.9991 - attrition_output_loss: 0.0123 - department_output_accuracy: 0.9430 - department_output_loss: 0.1302 - loss: 0.1427 - val_attrition_output_accuracy: 0.7823 - val_attrition_output_loss: 1.5799 - val_department_output_accuracy: 0.5442 - val_department_output_loss: 0.8270 - val_loss: 2.3569\n",
            "Epoch 79/100\n",
            "37/37 - 0s - 980us/step - attrition_output_accuracy: 0.9991 - attrition_output_loss: 0.0109 - department_output_accuracy: 0.9439 - department_output_loss: 0.1255 - loss: 0.1367 - val_attrition_output_accuracy: 0.7721 - val_attrition_output_loss: 1.5384 - val_department_output_accuracy: 0.5238 - val_department_output_loss: 0.8684 - val_loss: 2.3786\n",
            "Epoch 80/100\n",
            "37/37 - 0s - 2ms/step - attrition_output_accuracy: 0.9974 - attrition_output_loss: 0.0147 - department_output_accuracy: 0.9490 - department_output_loss: 0.1231 - loss: 0.1379 - val_attrition_output_accuracy: 0.7721 - val_attrition_output_loss: 1.5501 - val_department_output_accuracy: 0.5442 - val_department_output_loss: 0.8636 - val_loss: 2.4036\n",
            "Epoch 81/100\n",
            "37/37 - 0s - 1ms/step - attrition_output_accuracy: 0.9966 - attrition_output_loss: 0.0125 - department_output_accuracy: 0.9515 - department_output_loss: 0.1152 - loss: 0.1280 - val_attrition_output_accuracy: 0.7755 - val_attrition_output_loss: 1.5841 - val_department_output_accuracy: 0.5578 - val_department_output_loss: 0.8670 - val_loss: 2.4159\n",
            "Epoch 82/100\n",
            "37/37 - 0s - 1ms/step - attrition_output_accuracy: 0.9983 - attrition_output_loss: 0.0129 - department_output_accuracy: 0.9515 - department_output_loss: 0.1158 - loss: 0.1284 - val_attrition_output_accuracy: 0.7891 - val_attrition_output_loss: 1.5390 - val_department_output_accuracy: 0.5510 - val_department_output_loss: 0.9196 - val_loss: 2.4275\n",
            "Epoch 83/100\n",
            "37/37 - 0s - 1ms/step - attrition_output_accuracy: 0.9983 - attrition_output_loss: 0.0109 - department_output_accuracy: 0.9524 - department_output_loss: 0.1104 - loss: 0.1218 - val_attrition_output_accuracy: 0.7755 - val_attrition_output_loss: 1.6370 - val_department_output_accuracy: 0.5646 - val_department_output_loss: 0.8789 - val_loss: 2.4861\n",
            "Epoch 84/100\n",
            "37/37 - 0s - 991us/step - attrition_output_accuracy: 0.9974 - attrition_output_loss: 0.0099 - department_output_accuracy: 0.9634 - department_output_loss: 0.1044 - loss: 0.1140 - val_attrition_output_accuracy: 0.7755 - val_attrition_output_loss: 1.7268 - val_department_output_accuracy: 0.5442 - val_department_output_loss: 0.9117 - val_loss: 2.5882\n",
            "Epoch 85/100\n",
            "37/37 - 0s - 970us/step - attrition_output_accuracy: 0.9974 - attrition_output_loss: 0.0123 - department_output_accuracy: 0.9532 - department_output_loss: 0.1081 - loss: 0.1209 - val_attrition_output_accuracy: 0.8027 - val_attrition_output_loss: 1.7008 - val_department_output_accuracy: 0.5408 - val_department_output_loss: 0.9440 - val_loss: 2.6181\n",
            "Epoch 86/100\n",
            "37/37 - 0s - 962us/step - attrition_output_accuracy: 0.9974 - attrition_output_loss: 0.0100 - department_output_accuracy: 0.9643 - department_output_loss: 0.0983 - loss: 0.1083 - val_attrition_output_accuracy: 0.7857 - val_attrition_output_loss: 1.7568 - val_department_output_accuracy: 0.5476 - val_department_output_loss: 0.9299 - val_loss: 2.6602\n",
            "Epoch 87/100\n",
            "37/37 - 0s - 973us/step - attrition_output_accuracy: 0.9974 - attrition_output_loss: 0.0108 - department_output_accuracy: 0.9600 - department_output_loss: 0.0986 - loss: 0.1094 - val_attrition_output_accuracy: 0.7687 - val_attrition_output_loss: 1.6807 - val_department_output_accuracy: 0.5272 - val_department_output_loss: 0.9521 - val_loss: 2.5791\n",
            "Epoch 88/100\n",
            "37/37 - 0s - 982us/step - attrition_output_accuracy: 0.9966 - attrition_output_loss: 0.0106 - department_output_accuracy: 0.9532 - department_output_loss: 0.1035 - loss: 0.1140 - val_attrition_output_accuracy: 0.7687 - val_attrition_output_loss: 1.7010 - val_department_output_accuracy: 0.5510 - val_department_output_loss: 0.9366 - val_loss: 2.6021\n",
            "Epoch 89/100\n",
            "37/37 - 0s - 980us/step - attrition_output_accuracy: 0.9983 - attrition_output_loss: 0.0088 - department_output_accuracy: 0.9677 - department_output_loss: 0.0909 - loss: 0.0995 - val_attrition_output_accuracy: 0.7823 - val_attrition_output_loss: 1.8102 - val_department_output_accuracy: 0.5238 - val_department_output_loss: 0.9799 - val_loss: 2.7549\n",
            "Epoch 90/100\n",
            "37/37 - 0s - 993us/step - attrition_output_accuracy: 0.9991 - attrition_output_loss: 0.0073 - department_output_accuracy: 0.9651 - department_output_loss: 0.0934 - loss: 0.1010 - val_attrition_output_accuracy: 0.7789 - val_attrition_output_loss: 1.8102 - val_department_output_accuracy: 0.5510 - val_department_output_loss: 0.9650 - val_loss: 2.7195\n",
            "Epoch 91/100\n",
            "37/37 - 0s - 1ms/step - attrition_output_accuracy: 1.0000 - attrition_output_loss: 0.0087 - department_output_accuracy: 0.9617 - department_output_loss: 0.0942 - loss: 0.1029 - val_attrition_output_accuracy: 0.8061 - val_attrition_output_loss: 1.8570 - val_department_output_accuracy: 0.5714 - val_department_output_loss: 1.0303 - val_loss: 2.8544\n",
            "Epoch 92/100\n",
            "37/37 - 0s - 1ms/step - attrition_output_accuracy: 0.9983 - attrition_output_loss: 0.0112 - department_output_accuracy: 0.9634 - department_output_loss: 0.0875 - loss: 0.0990 - val_attrition_output_accuracy: 0.7619 - val_attrition_output_loss: 1.7717 - val_department_output_accuracy: 0.5374 - val_department_output_loss: 0.9960 - val_loss: 2.7327\n",
            "Epoch 93/100\n",
            "37/37 - 0s - 1ms/step - attrition_output_accuracy: 0.9983 - attrition_output_loss: 0.0113 - department_output_accuracy: 0.9719 - department_output_loss: 0.0815 - loss: 0.0925 - val_attrition_output_accuracy: 0.7755 - val_attrition_output_loss: 1.8288 - val_department_output_accuracy: 0.5306 - val_department_output_loss: 1.0160 - val_loss: 2.8191\n",
            "Epoch 94/100\n",
            "37/37 - 0s - 2ms/step - attrition_output_accuracy: 0.9974 - attrition_output_loss: 0.0105 - department_output_accuracy: 0.9728 - department_output_loss: 0.0800 - loss: 0.0901 - val_attrition_output_accuracy: 0.7993 - val_attrition_output_loss: 1.7963 - val_department_output_accuracy: 0.5612 - val_department_output_loss: 1.0194 - val_loss: 2.8207\n",
            "Epoch 95/100\n",
            "37/37 - 0s - 3ms/step - attrition_output_accuracy: 0.9991 - attrition_output_loss: 0.0064 - department_output_accuracy: 0.9745 - department_output_loss: 0.0761 - loss: 0.0825 - val_attrition_output_accuracy: 0.7823 - val_attrition_output_loss: 1.8627 - val_department_output_accuracy: 0.5612 - val_department_output_loss: 1.0282 - val_loss: 2.8850\n",
            "Epoch 96/100\n",
            "37/37 - 0s - 1ms/step - attrition_output_accuracy: 0.9983 - attrition_output_loss: 0.0069 - department_output_accuracy: 0.9694 - department_output_loss: 0.0751 - loss: 0.0820 - val_attrition_output_accuracy: 0.7789 - val_attrition_output_loss: 1.7870 - val_department_output_accuracy: 0.5374 - val_department_output_loss: 1.0489 - val_loss: 2.8277\n",
            "Epoch 97/100\n",
            "37/37 - 0s - 1ms/step - attrition_output_accuracy: 0.9991 - attrition_output_loss: 0.0069 - department_output_accuracy: 0.9779 - department_output_loss: 0.0699 - loss: 0.0769 - val_attrition_output_accuracy: 0.7789 - val_attrition_output_loss: 1.7738 - val_department_output_accuracy: 0.5374 - val_department_output_loss: 1.0557 - val_loss: 2.8356\n",
            "Epoch 98/100\n",
            "37/37 - 0s - 1ms/step - attrition_output_accuracy: 0.9991 - attrition_output_loss: 0.0069 - department_output_accuracy: 0.9736 - department_output_loss: 0.0678 - loss: 0.0750 - val_attrition_output_accuracy: 0.7857 - val_attrition_output_loss: 2.0927 - val_department_output_accuracy: 0.5442 - val_department_output_loss: 1.0538 - val_loss: 3.0915\n",
            "Epoch 99/100\n",
            "37/37 - 0s - 1ms/step - attrition_output_accuracy: 0.9974 - attrition_output_loss: 0.0113 - department_output_accuracy: 0.9745 - department_output_loss: 0.0679 - loss: 0.0791 - val_attrition_output_accuracy: 0.7687 - val_attrition_output_loss: 1.8698 - val_department_output_accuracy: 0.5204 - val_department_output_loss: 1.0819 - val_loss: 2.9493\n",
            "Epoch 100/100\n",
            "37/37 - 0s - 1ms/step - attrition_output_accuracy: 0.9881 - attrition_output_loss: 0.0435 - department_output_accuracy: 0.9796 - department_output_loss: 0.0681 - loss: 0.1115 - val_attrition_output_accuracy: 0.7925 - val_attrition_output_loss: 1.8772 - val_department_output_accuracy: 0.5306 - val_department_output_loss: 1.1511 - val_loss: 3.0691\n"
          ]
        },
        {
          "data": {
            "text/plain": [
              "<keras.src.callbacks.history.History at 0x16b557a70>"
            ]
          },
          "execution_count": 15,
          "metadata": {},
          "output_type": "execute_result"
        }
      ],
      "source": [
        "# Train the model\n",
        "model.fit(X_train_scaled,  \n",
        "          [y_train_department_encoded, y_train_attrition_encoded],\n",
        "          validation_data=(X_test_scaled, [y_test_department_encoded, y_test_attrition_encoded]),\n",
        "          epochs=100, \n",
        "          verbose=2\n",
        ")"
      ]
    },
    {
      "cell_type": "code",
      "execution_count": 18,
      "metadata": {
        "colab": {
          "base_uri": "https://localhost:8080/"
        },
        "id": "VsMoaQlgGc3U",
        "outputId": "1bd4e601-e964-4abc-ad83-aeecf6b696be"
      },
      "outputs": [
        {
          "name": "stdout",
          "output_type": "stream",
          "text": [
            "\u001b[1m10/10\u001b[0m \u001b[32m━━━━━━━━━━━━━━━━━━━━\u001b[0m\u001b[37m\u001b[0m \u001b[1m0s\u001b[0m 1ms/step - attrition_output_accuracy: 0.7815 - attrition_output_loss: 1.8969 - department_output_accuracy: 0.5299 - department_output_loss: 1.1569 - loss: 3.06335\n"
          ]
        },
        {
          "data": {
            "text/plain": [
              "[3.0690724849700928,\n",
              " 1.1511200666427612,\n",
              " 1.8771793842315674,\n",
              " 0.7925170063972473,\n",
              " 0.5306122303009033]"
            ]
          },
          "execution_count": 18,
          "metadata": {},
          "output_type": "execute_result"
        }
      ],
      "source": [
        "# Evaluate the model with the testing data\n",
        "evaluation = model.evaluate(X_test_scaled, [y_test_department_encoded, y_test_attrition_encoded])\n",
        "\n",
        "evaluation"
      ]
    },
    {
      "cell_type": "code",
      "execution_count": 19,
      "metadata": {
        "colab": {
          "base_uri": "https://localhost:8080/"
        },
        "id": "ZlCtlHi0Vt54",
        "outputId": "bc21ef3e-80c2-4b38-9c29-79515bc23dec"
      },
      "outputs": [
        {
          "name": "stdout",
          "output_type": "stream",
          "text": [
            "Department Accuracy: 0.531\n",
            "Attrition Accuracy: 0.793\n"
          ]
        }
      ],
      "source": [
        "# Print the accuracy for both department and attrition\n",
        "print('Department Accuracy: %.3f' % evaluation[4])\n",
        "print('Attrition Accuracy: %.3f' % evaluation[3])"
      ]
    },
    {
      "cell_type": "markdown",
      "metadata": {
        "id": "eGSyfsZfWOQM"
      },
      "source": [
        "# Summary\n",
        "\n",
        "In the provided space below, briefly answer the following questions.\n",
        "\n",
        "1. Is accuracy the best metric to use on this data? Why or why not?\n",
        "\n",
        "2. What activation functions did you choose for your output layers, and why?\n",
        "\n",
        "3. Can you name a few ways that this model might be improved?"
      ]
    },
    {
      "cell_type": "markdown",
      "metadata": {
        "id": "pi9SLpFnWvbF"
      },
      "source": [
        "YOUR ANSWERS HERE\n",
        "\n",
        "1. \n",
        "2. \n",
        "3. "
      ]
    },
    {
      "cell_type": "markdown",
      "metadata": {},
      "source": []
    }
  ],
  "metadata": {
    "colab": {
      "provenance": []
    },
    "kernelspec": {
      "display_name": "Python 3",
      "language": "python",
      "name": "python3"
    },
    "language_info": {
      "codemirror_mode": {
        "name": "ipython",
        "version": 3
      },
      "file_extension": ".py",
      "mimetype": "text/x-python",
      "name": "python",
      "nbconvert_exporter": "python",
      "pygments_lexer": "ipython3",
      "version": "3.12.4"
    },
    "vscode": {
      "interpreter": {
        "hash": "31f2aee4e71d21fbe5cf8b01ff0e069b9275f58929596ceb00d14d90e3e16cd6"
      }
    }
  },
  "nbformat": 4,
  "nbformat_minor": 0
}
